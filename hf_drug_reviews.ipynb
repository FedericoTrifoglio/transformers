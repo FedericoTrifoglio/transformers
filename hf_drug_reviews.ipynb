{
 "cells": [
  {
   "cell_type": "markdown",
   "metadata": {},
   "source": [
    "# Predicting popular conditions from drug reviews using Datasets and Transformers libraries\n",
    "\n",
    "Inspired by: https://huggingface.co/course\n",
    "\n",
    "<p><a href=\"https://colab.research.google.com/drive/12BigcqjIvFSQmeE1m4AP6fHzfZm62icd?usp=sharing\", target=\"_blank\"><img src=\"https://colab.research.google.com/assets/colab-badge.svg\" align=\"left\"></a>&nbsp;to run on GPU (Runtime > Change Runtime Type > GPU)</p>"
   ]
  },
  {
   "cell_type": "markdown",
   "metadata": {},
   "source": [
    "The preprocessing and training take a while. Reload cells are provided.\n",
    "\n",
    "Jump to:\n",
    "\n",
    "[Reload preprocessed data](#reload-preprocessed-data)\n",
    "\n",
    "[Reload model](#reload-model)"
   ]
  },
  {
   "cell_type": "code",
   "execution_count": 1,
   "metadata": {},
   "outputs": [],
   "source": [
    "from io import BytesIO\n",
    "from urllib.request import urlopen\n",
    "from zipfile import ZipFile\n",
    "\n",
    "import numpy as np\n",
    "import pandas as pd\n",
    "import html\n",
    "import re\n",
    "from collections import Counter\n",
    "\n",
    "import matplotlib.pyplot as plt\n",
    "import matplotlib.ticker as ticker\n",
    "\n",
    "from datasets import load_dataset, Features, ClassLabel, Sequence, Value\n",
    "from transformers import AutoTokenizer, DataCollatorWithPadding, TFAutoModelForSequenceClassification\n",
    "\n",
    "from tensorflow.keras.optimizers import Adam\n",
    "from tensorflow.keras.optimizers.schedules import PolynomialDecay\n",
    "from tensorflow.keras.losses import SparseCategoricalCrossentropy\n",
    "\n",
    "from sklearn.metrics import confusion_matrix, classification_report"
   ]
  },
  {
   "cell_type": "markdown",
   "metadata": {},
   "source": [
    "## Download, import and inspect the data\n",
    "\n",
    "Source: https://archive.ics.uci.edu/ml/datasets/Drug+Review+Dataset+%28Drugs.com%29\n",
    "\n",
    "The dataset provides patient reviews on specific drugs along with related conditions and a 10 star patient rating reflecting overall patient satisfaction. The data was obtained by crawling online pharmaceutical review sites.\n",
    "\n",
    "The data is split into a train (75%) a test (25%) partition and stored in two .tsv files.\n",
    "\n",
    "**Attribute Information:**\n",
    "\n",
    "1. drugName (categorical): name of drug\n",
    "2. condition (categorical): name of condition\n",
    "3. review (text): patient review\n",
    "4. rating (numerical): 10 star patient rating\n",
    "5. date (date): date of review entry\n",
    "6. usefulCount (numerical): number of users who found review useful"
   ]
  },
  {
   "cell_type": "code",
   "execution_count": 2,
   "metadata": {},
   "outputs": [],
   "source": [
    "with urlopen(\"https://archive.ics.uci.edu/ml/machine-learning-databases/00462/drugsCom_raw.zip\") as zipresp:\n",
    "    with ZipFile(BytesIO(zipresp.read())) as zfile:\n",
    "        zfile.extractall()"
   ]
  },
  {
   "cell_type": "code",
   "execution_count": 7,
   "metadata": {},
   "outputs": [
    {
     "name": "stderr",
     "output_type": "stream",
     "text": [
      "Using custom data configuration default-8b6d4d5425c56eae\n"
     ]
    },
    {
     "name": "stdout",
     "output_type": "stream",
     "text": [
      "Downloading and preparing dataset csv/default to C:\\Users\\federico trifoglio\\.cache\\huggingface\\datasets\\csv\\default-8b6d4d5425c56eae\\0.0.0\\6b9057d9e23d9d8a2f05b985917a0da84d70c5dae3d22ddd8a3f22fb01c69d9e...\n"
     ]
    },
    {
     "name": "stderr",
     "output_type": "stream",
     "text": [
      "100%|██████████| 2/2 [00:00<00:00, 1993.96it/s]\n",
      "100%|██████████| 2/2 [00:00<00:00, 407.00it/s]\n"
     ]
    },
    {
     "name": "stdout",
     "output_type": "stream",
     "text": [
      "Dataset csv downloaded and prepared to C:\\Users\\federico trifoglio\\.cache\\huggingface\\datasets\\csv\\default-8b6d4d5425c56eae\\0.0.0\\6b9057d9e23d9d8a2f05b985917a0da84d70c5dae3d22ddd8a3f22fb01c69d9e. Subsequent calls will reuse this data.\n"
     ]
    },
    {
     "name": "stderr",
     "output_type": "stream",
     "text": [
      "100%|██████████| 2/2 [00:00<00:00, 13.33it/s]\n"
     ]
    },
    {
     "data": {
      "text/plain": [
       "DatasetDict({\n",
       "    train: Dataset({\n",
       "        features: ['Unnamed: 0', 'drugName', 'condition', 'review', 'rating', 'date', 'usefulCount'],\n",
       "        num_rows: 161297\n",
       "    })\n",
       "    test: Dataset({\n",
       "        features: ['Unnamed: 0', 'drugName', 'condition', 'review', 'rating', 'date', 'usefulCount'],\n",
       "        num_rows: 53766\n",
       "    })\n",
       "})"
      ]
     },
     "execution_count": 7,
     "metadata": {},
     "output_type": "execute_result"
    }
   ],
   "source": [
    "drug_dataset = load_dataset('csv', data_files={'train': \"drugsComTrain_raw.tsv\", 'test': \"drugsComTest_raw.tsv\"}, delimiter='\\t')\n",
    "drug_dataset"
   ]
  },
  {
   "cell_type": "code",
   "execution_count": 8,
   "metadata": {},
   "outputs": [
    {
     "data": {
      "text/plain": [
       "{'Unnamed: 0': [87571, 178045, 80482],\n",
       " 'drugName': ['Naproxen', 'Duloxetine', 'Mobic'],\n",
       " 'condition': ['Gout, Acute', 'ibromyalgia', 'Inflammatory Conditions'],\n",
       " 'review': ['\"like the previous person mention, I&#039;m a strong believer of aleve, it works faster for my gout than the prescription meds I take. No more going to the doctor for refills.....Aleve works!\"',\n",
       "  '\"I have taken Cymbalta for about a year and a half for fibromyalgia pain. It is great\\r\\nas a pain reducer and an anti-depressant, however, the side effects outweighed \\r\\nany benefit I got from it. I had trouble with restlessness, being tired constantly,\\r\\ndizziness, dry mouth, numbness and tingling in my feet, and horrible sweating. I am\\r\\nbeing weaned off of it now. Went from 60 mg to 30mg and now to 15 mg. I will be\\r\\noff completely in about a week. The fibro pain is coming back, but I would rather deal with it than the side effects.\"',\n",
       "  '\"I have been taking Mobic for over a year with no side effects other than an elevated blood pressure.  I had severe knee and ankle pain which completely went away after taking Mobic.  I attempted to stop the medication however pain returned after a few days.\"'],\n",
       " 'rating': [9.0, 3.0, 10.0],\n",
       " 'date': ['September 2, 2015', 'November 7, 2011', 'June 5, 2013'],\n",
       " 'usefulCount': [36, 13, 128]}"
      ]
     },
     "execution_count": 8,
     "metadata": {},
     "output_type": "execute_result"
    }
   ],
   "source": [
    "drug_sample = drug_dataset['train'].shuffle(seed=42).select(range(1000))\n",
    "drug_sample[:3]"
   ]
  },
  {
   "cell_type": "markdown",
   "metadata": {},
   "source": [
    "## Cleaning\n",
    "\n",
    "- rename ID column\n",
    "- remove examples where condition is missing\n",
    "- conditions all lower case\n",
    "- split conditions separated by comma\n",
    "- convert HTML characters to unicode"
   ]
  },
  {
   "cell_type": "markdown",
   "metadata": {},
   "source": [
    "The `Datasets.map` method with `batched=True` allows to apply a `lambda` function to 1,000 examples at once.\n",
    "\n",
    "When `batched=True`, `map()` passes a list of examples to the `lambda` function and it must return a list of values.\n",
    "\n",
    "So the call usually has this structure:\n",
    "\n",
    "```\n",
    "Datasets.map(lambda x: {'column_name': [ex.foo() for ex in x['column_name']]}, batched=True)\n",
    "```"
   ]
  },
  {
   "cell_type": "code",
   "execution_count": 9,
   "metadata": {},
   "outputs": [
    {
     "name": "stderr",
     "output_type": "stream",
     "text": [
      "100%|██████████| 162/162 [00:02<00:00, 73.56ba/s]\n",
      "100%|██████████| 54/54 [00:00<00:00, 71.32ba/s]\n",
      "100%|██████████| 161/161 [00:04<00:00, 35.59ba/s]\n",
      "100%|██████████| 54/54 [00:01<00:00, 31.60ba/s]\n",
      "100%|██████████| 161/161 [00:02<00:00, 75.56ba/s]\n",
      "100%|██████████| 54/54 [00:00<00:00, 82.44ba/s]\n",
      "100%|██████████| 161/161 [00:03<00:00, 48.79ba/s]\n",
      "100%|██████████| 54/54 [00:01<00:00, 46.61ba/s]\n"
     ]
    }
   ],
   "source": [
    "drug_dataset = drug_dataset.rename_column(original_column_name='Unnamed: 0', new_column_name='patient_id')\n",
    "drug_dataset = drug_dataset.filter(lambda x: x['condition'] is not None)\n",
    "drug_dataset = drug_dataset.map(lambda x: {'condition': [o.lower() for o in x['condition']]}, batched=True)\n",
    "drug_dataset = drug_dataset.map(lambda x: {'condition_split': [o.lower().split(', ') for o in x['condition']]}, batched=True)\n",
    "drug_dataset = drug_dataset.map(lambda x: {\"review\": [html.unescape(o) for o in x[\"review\"]]}, batched=True)"
   ]
  },
  {
   "cell_type": "markdown",
   "metadata": {},
   "source": [
    "## Feature engineering\n",
    "\n",
    "- add review length\n",
    "- tokenization for [BERT cased](https://huggingface.co/bert-base-cased)"
   ]
  },
  {
   "cell_type": "code",
   "execution_count": 10,
   "metadata": {},
   "outputs": [
    {
     "name": "stderr",
     "output_type": "stream",
     "text": [
      "100%|██████████| 161/161 [00:03<00:00, 42.86ba/s]\n",
      "100%|██████████| 54/54 [00:01<00:00, 41.19ba/s]\n"
     ]
    }
   ],
   "source": [
    "drug_dataset = drug_dataset.map(lambda x: {'review_length': [len(o.split()) for o in x['review']]}, batched=True)"
   ]
  },
  {
   "cell_type": "code",
   "execution_count": 11,
   "metadata": {},
   "outputs": [
    {
     "data": {
      "image/png": "[encoded data removed]",
      "text/plain": [
       "<Figure size 1080x504 with 2 Axes>"
      ]
     },
     "metadata": {
      "needs_background": "light"
     },
     "output_type": "display_data"
    }
   ],
   "source": [
    "def plot_review_length(dt):\n",
    "  \"\"\"\n",
    "  Plot distribution of reviews' word-lengths\n",
    "  First plot has fixed x axis from 1 to 200\n",
    "  The second plot has fixed log(x) axis from 1 to 1000\n",
    "  \n",
    "  Parameters:\n",
    "  -----------\n",
    "  dt: datasets.DatasetDict \n",
    "    with train key and review_length as a feature\n",
    "  \"\"\"\n",
    "  # convert to data frame\n",
    "  dt.set_format('pandas')\n",
    "  train_df = dt['train'][:]\n",
    "  frequencies = (\n",
    "      train_df['review_length']\n",
    "      .value_counts(sort=False)\n",
    "      .sort_index()\n",
    "  )\n",
    "  # reconvert to Datasets\n",
    "  dt.reset_format() \n",
    "\n",
    "  fig, (ax1,ax2) = plt.subplots(1,2,figsize=(15,7), sharey=True)\n",
    "  fig.suptitle(\"Reviews' length distribution\")\n",
    "  ax1.bar(frequencies.index, frequencies.values)\n",
    "  ax1.set_xlim(1,200)\n",
    "  ax1.set_xlabel(\"Review length (# words)\")\n",
    "  ax1.set_ylabel(\"Counts\")\n",
    "  ax1.set_title(\"Zoomed in on reviews up to 200 words\")\n",
    "  ax2.bar(frequencies.index, frequencies.values)\n",
    "  ax2.set_xscale('log')\n",
    "  ax2.xaxis.set_major_formatter(ticker.ScalarFormatter())\n",
    "  ax2.set_xlim(1,1000)\n",
    "  ax2.set_xlabel(\"Review length (# words)\")\n",
    "  ax2.set_ylabel(\"Counts\")\n",
    "  ax2.set_title(\"On log scale to also see beyond 200\")\n",
    "\n",
    "plot_review_length(drug_dataset)"
   ]
  },
  {
   "cell_type": "markdown",
   "metadata": {},
   "source": [
    "- remove reviews with less than 30 words"
   ]
  },
  {
   "cell_type": "code",
   "execution_count": 12,
   "metadata": {},
   "outputs": [
    {
     "name": "stderr",
     "output_type": "stream",
     "text": [
      "100%|██████████| 161/161 [00:03<00:00, 42.25ba/s]\n",
      "100%|██████████| 54/54 [00:01<00:00, 44.33ba/s]\n"
     ]
    },
    {
     "data": {
      "image/png": "[encoded data removed]",
      "text/plain": [
       "<Figure size 1080x504 with 2 Axes>"
      ]
     },
     "metadata": {
      "needs_background": "light"
     },
     "output_type": "display_data"
    }
   ],
   "source": [
    "drug_dataset = drug_dataset.filter(lambda x: x['review_length'] > 30)\n",
    "\n",
    "plot_review_length(drug_dataset)"
   ]
  },
  {
   "cell_type": "code",
   "execution_count": 8,
   "metadata": {},
   "outputs": [
    {
     "name": "stdout",
     "output_type": "stream",
     "text": [
      "Max #tokens for bert-base-cased is 512\n"
     ]
    }
   ],
   "source": [
    "pretrained_model = 'bert-base-cased'\n",
    "tokenizer = AutoTokenizer.from_pretrained(pretrained_model)\n",
    "print(f\"Max #tokens for {tokenizer.name_or_path} is {tokenizer.model_max_length}\")"
   ]
  },
  {
   "cell_type": "code",
   "execution_count": 14,
   "metadata": {},
   "outputs": [
    {
     "name": "stdout",
     "output_type": "stream",
     "text": [
      "Length before tokenize_and_split: train=138514, test=46108\n"
     ]
    },
    {
     "name": "stderr",
     "output_type": "stream",
     "text": [
      "100%|██████████| 139/139 [00:35<00:00,  3.95ba/s]\n",
      "100%|██████████| 47/47 [00:12<00:00,  3.77ba/s]"
     ]
    },
    {
     "name": "stdout",
     "output_type": "stream",
     "text": [
      "Length before tokenize_and_split: train=138579, test=46121\n"
     ]
    },
    {
     "name": "stderr",
     "output_type": "stream",
     "text": [
      "\n"
     ]
    }
   ],
   "source": [
    "def tokenize_and_split(examples):\n",
    "    \"\"\"\n",
    "    Create additional examples from overflowing tokens\n",
    "    \"\"\"\n",
    "    result = tokenizer(\n",
    "        examples[\"review\"],\n",
    "        truncation=True,\n",
    "        return_overflowing_tokens=True\n",
    "    )\n",
    "    sample_map = result.pop('overflow_to_sample_mapping')\n",
    "    for key, values in examples.items():\n",
    "        result[key] = [values[i] for i in sample_map]\n",
    "    return result\n",
    "\n",
    "print(f\"Length before tokenize_and_split: train={len(drug_dataset['train'])}, test={len(drug_dataset['test'])}\")\n",
    "tokenized_dataset = drug_dataset.map(tokenize_and_split, batched=True)\n",
    "print(f\"Length before tokenize_and_split: train={len(tokenized_dataset['train'])}, test={len(tokenized_dataset['test'])}\")"
   ]
  },
  {
   "cell_type": "markdown",
   "metadata": {},
   "source": [
    "Let's take a look at how data get tokenized for BERT."
   ]
  },
  {
   "cell_type": "code",
   "execution_count": 29,
   "metadata": {},
   "outputs": [
    {
     "name": "stdout",
     "output_type": "stream",
     "text": [
      "0    |1|2 |3  |4 |5      |6      |7  |8     |9   |10 |11|12 |13  |14|15 |16  |17       | | |20   \n",
      "[CLS]|\"|My|son|is|halfway|through|his|fourth|week|...|so|far|this|is|the|most|effective|.|\"|[SEP]\n"
     ]
    }
   ],
   "source": [
    "example_tokens = tokenizer.convert_ids_to_tokens(tokenized_dataset['train']['input_ids'][0][:10]) + \\\n",
    "                 ['...'] + \\\n",
    "                 tokenizer.convert_ids_to_tokens(tokenized_dataset['train']['input_ids'][0][-10:])\n",
    "print(*[str(i) + \" \" * (len(tk)-len(str(i))) if len(str(i)) <= len(tk) else \" \" * len(tk) for i, tk in enumerate(example_tokens)], sep=\"|\")\n",
    "print(*example_tokens, sep=\"|\")"
   ]
  },
  {
   "cell_type": "markdown",
   "metadata": {},
   "source": [
    "BERT uses WordPiece tokenization (vocabulary size of 30,000). And since it was trained on a 'next sentence prediction' task a training example is of the form \n",
    "\n",
    "```\n",
    "[CLS] Sentence A [SEP] Sentence B [SEP]\n",
    "```\n",
    "\n",
    "But when using BERT for a downstream classification task we will only add `[CLS]` and `[SEP]` at the begging and the end, respectively.\n",
    "\n",
    "`[PAD]` is added when the examples in one training batch are not of the same length.\n",
    "\n"
   ]
  },
  {
   "cell_type": "markdown",
   "metadata": {},
   "source": [
    "## Create labels"
   ]
  },
  {
   "cell_type": "markdown",
   "metadata": {},
   "source": [
    "We want to predict a patient condition based on the content of their review."
   ]
  },
  {
   "cell_type": "code",
   "execution_count": 16,
   "metadata": {},
   "outputs": [
    {
     "name": "stdout",
     "output_type": "stream",
     "text": [
      "There are 818 conditions.\n",
      "The 10 most commons are birth control, depression, acne, anxiety, pain, bipolar disorde, weight loss, obesity, insomnia, adhd.\n"
     ]
    }
   ],
   "source": [
    "conditions = [item for sublist in tokenized_dataset['train']['condition_split'] for item in sublist]\n",
    "conditions = Counter(conditions)\n",
    "top_conditions = [condition for condition, frequency in conditions.most_common()[:10]]\n",
    "print(f\"There are {len(conditions)} conditions.\\nThe 10 most commons are {', '.join(top_conditions)}.\")"
   ]
  },
  {
   "cell_type": "markdown",
   "metadata": {},
   "source": [
    "We add \"other\" so we have 11 possible labels to predict."
   ]
  },
  {
   "cell_type": "code",
   "execution_count": 17,
   "metadata": {},
   "outputs": [],
   "source": [
    "top_conditions.append(\"other\")"
   ]
  },
  {
   "cell_type": "code",
   "execution_count": 18,
   "metadata": {},
   "outputs": [],
   "source": [
    "def label_encoder(condition):\n",
    "    \"\"\"\n",
    "    Return integer from 0 to 10 where 0 \n",
    "    is birth control, 1 depression etc and 10 is other\n",
    "    \"\"\"\n",
    "    regex_conditions = [\n",
    "        bool(re.search(\"birth control\", condition)),\n",
    "        bool(re.search(\"depression\", condition)),\n",
    "        bool(re.search(\"pain\", condition)),\n",
    "        bool(re.search(\"anxiety\", condition)),\n",
    "        bool(re.search(\"acne\", condition)),\n",
    "        bool(re.search(\"bipolar disorde\", condition)),\n",
    "        bool(re.search(\"insomnia\", condition)),\n",
    "        bool(re.search(\"weight loss\", condition)),\n",
    "        bool(re.search(\"obesity\", condition)),\n",
    "        bool(re.search(\"adhd\", condition))\n",
    "    ]\n",
    "    choices = range(10)\n",
    "    return int(np.select(regex_conditions, choices, default=10))"
   ]
  },
  {
   "cell_type": "markdown",
   "metadata": {},
   "source": [
    "Put it all together."
   ]
  },
  {
   "cell_type": "code",
   "execution_count": 19,
   "metadata": {},
   "outputs": [
    {
     "name": "stderr",
     "output_type": "stream",
     "text": [
      "100%|██████████| 139/139 [00:38<00:00,  3.65ba/s]\n",
      "100%|██████████| 47/47 [00:13<00:00,  3.55ba/s]\n"
     ]
    },
    {
     "data": {
      "text/plain": [
       "{'input_ids': Sequence(feature=Value(dtype='int64', id=None), length=-1, id=None),\n",
       " 'attention_mask': Sequence(feature=Value(dtype='int64', id=None), length=-1, id=None),\n",
       " 'token_type_ids': Sequence(feature=Value(dtype='int64', id=None), length=-1, id=None),\n",
       " 'label': ClassLabel(num_classes=11, names=['birth control', 'depression', 'acne', 'anxiety', 'pain', 'bipolar disorde', 'weight loss', 'obesity', 'insomnia', 'adhd', 'other'], names_file=None, id=None)}"
      ]
     },
     "execution_count": 19,
     "metadata": {},
     "output_type": "execute_result"
    }
   ],
   "source": [
    "features = Features({\n",
    "    'input_ids': Sequence(feature=Value(dtype='int64')),\n",
    "    'attention_mask': Sequence(Value(dtype='int64')),\n",
    "    'token_type_ids': Sequence(Value(dtype='int64')),\n",
    "    'label': ClassLabel(names=top_conditions)\n",
    "})\n",
    "tokenized_dataset = tokenized_dataset.remove_columns(['date', 'condition_split', 'drugName', 'patient_id', 'rating', 'review', 'review_length', 'usefulCount'])\n",
    "tokenized_dataset = tokenized_dataset.rename_column(\n",
    "    original_column_name='condition', new_column_name='label'\n",
    ")\n",
    "tokenized_dataset = tokenized_dataset.map(lambda x: {'label': [label_encoder(o) for o in x['label']]}, batched=True, features=features)\n",
    "tokenized_dataset['train'].features"
   ]
  },
  {
   "cell_type": "markdown",
   "metadata": {},
   "source": [
    "## Training"
   ]
  },
  {
   "cell_type": "markdown",
   "metadata": {},
   "source": [
    "We split the train data set into train-dev (80/20) and keep the test for later."
   ]
  },
  {
   "cell_type": "code",
   "execution_count": 30,
   "metadata": {},
   "outputs": [
    {
     "name": "stderr",
     "output_type": "stream",
     "text": [
      "Flattening the indices: 100%|██████████| 111/111 [00:31<00:00,  3.56ba/s]\n",
      "Flattening the indices: 100%|██████████| 28/28 [00:07<00:00,  3.72ba/s]\n"
     ]
    }
   ],
   "source": [
    "drug_dataset_preproc = tokenized_dataset['train'].train_test_split(train_size=0.8, seed=42)\n",
    "drug_dataset_preproc['validation'] = drug_dataset_preproc.pop('test')\n",
    "drug_dataset_preproc['test'] = tokenized_dataset['test']\n",
    "# drug_dataset_preproc.save_to_disk('drug-reviews')"
   ]
  },
  {
   "cell_type": "markdown",
   "metadata": {},
   "source": [
    "##### Reload preprocessed data"
   ]
  },
  {
   "cell_type": "code",
   "execution_count": 3,
   "metadata": {},
   "outputs": [],
   "source": [
    "# from datasets import load_from_disk\n",
    "# drug_dataset_preproc = load_from_disk('drug-reviews')\n",
    "# pretrained_model = 'bert-base-cased'\n",
    "# tokenizer = AutoTokenizer.from_pretrained(pretrained_model)\n",
    "# top_condition = ['birth control', 'depression', 'acne', 'anxiety', \n",
    "#                  'pain', 'bipolar disorde', 'weight loss', 'obesity', \n",
    "#                  'insomnia', 'adhd', 'other']"
   ]
  },
  {
   "cell_type": "code",
   "execution_count": 5,
   "metadata": {},
   "outputs": [],
   "source": [
    "N_tra = len(drug_dataset_preproc['train'])\n",
    "N_dev = len(drug_dataset_preproc['validation'])\n",
    "N_tes = len(drug_dataset_preproc['test'])"
   ]
  },
  {
   "cell_type": "markdown",
   "metadata": {},
   "source": [
    "We can use the `to_tf_dataset()` method to wrap the dataset with a `tf.data.Dataset`, which are natively understood by Keras. This means a `tf.data.Dataset` object can be iterated over to yield batches of data, and can be passed directly to methods like `model.fit()`.\n",
    "\n",
    "The `collate_fn` argument specifies a data collator that will batch each processed example and apply padding."
   ]
  },
  {
   "cell_type": "code",
   "execution_count": 9,
   "metadata": {},
   "outputs": [
    {
     "name": "stderr",
     "output_type": "stream",
     "text": [
      "Loading cached shuffled indices for dataset at drug-reviews/validation\\cache-7fb2514cdab54e2a.arrow\n"
     ]
    }
   ],
   "source": [
    "data_collator = DataCollatorWithPadding(tokenizer=tokenizer, return_tensors='tf')\n",
    "\n",
    "batch_size = 8\n",
    "\n",
    "# select 20% of the data to keep the training \"short\" (~7 hours on CPU)\n",
    "tf_train_dataset = drug_dataset_preproc['train'].shuffle(seed=42).\\\n",
    "    select(range(N_tra // 5)).to_tf_dataset(\n",
    "    columns=['attention_mask', 'input_ids', 'token_type_ids'],\n",
    "    label_cols=['labels'],\n",
    "    shuffle=True,\n",
    "    collate_fn=data_collator,\n",
    "    batch_size=batch_size,\n",
    ")\n",
    "\n",
    "tf_validation_dataset = drug_dataset_preproc['validation'].shuffle(seed=42).\\\n",
    "    select(range(N_dev // 5)).to_tf_dataset(\n",
    "    columns=['attention_mask', 'input_ids', 'token_type_ids'],\n",
    "    label_cols=['labels'],\n",
    "    shuffle=False,\n",
    "    collate_fn=data_collator,\n",
    "    batch_size=batch_size,\n",
    ")"
   ]
  },
  {
   "cell_type": "markdown",
   "metadata": {},
   "source": [
    "We now define the downstream classification model to train BERT on."
   ]
  },
  {
   "cell_type": "code",
   "execution_count": 32,
   "metadata": {},
   "outputs": [
    {
     "name": "stderr",
     "output_type": "stream",
     "text": [
      "Downloading: 100%|██████████| 502M/502M [02:03<00:00, 4.26MB/s]\n",
      "All model checkpoint layers were used when initializing TFBertForSequenceClassification.\n",
      "\n",
      "Some layers of TFBertForSequenceClassification were not initialized from the model checkpoint at bert-base-cased and are newly initialized: ['classifier']\n",
      "You should probably TRAIN this model on a down-stream task to be able to use it for predictions and inference.\n"
     ]
    }
   ],
   "source": [
    "model = TFAutoModelForSequenceClassification.from_pretrained(pretrained_model, num_labels=11)"
   ]
  },
  {
   "cell_type": "markdown",
   "metadata": {},
   "source": [
    "We train for just 1 epoch (2771 minibatches) using Adam optimizer on accuracy with a decaying learning rate."
   ]
  },
  {
   "cell_type": "code",
   "execution_count": 46,
   "metadata": {},
   "outputs": [],
   "source": [
    "num_epochs = 1\n",
    "num_train_steps = len(tf_train_dataset) * num_epochs\n",
    "lr_scheduler = PolynomialDecay(\n",
    "    initial_learning_rate=5e-5, end_learning_rate=0.0, decay_steps=num_train_steps\n",
    ")\n",
    "opt = Adam(learning_rate=lr_scheduler)\n",
    "loss = SparseCategoricalCrossentropy(from_logits=True)\n",
    "model.compile(optimizer=opt, loss=loss, metrics=['accuracy'])"
   ]
  },
  {
   "cell_type": "code",
   "execution_count": 47,
   "metadata": {},
   "outputs": [
    {
     "name": "stdout",
     "output_type": "stream",
     "text": [
      "2771/2771 [==============================] - 26883s 10s/step - loss: 0.7354 - accuracy: 0.7560 - val_loss: 0.4837 - val_accuracy: 0.8275\n",
      "CPU times: total: 2d 1h 25min 55s\n",
      "Wall time: 7h 28min 3s\n"
     ]
    },
    {
     "data": {
      "text/plain": [
       "<keras.callbacks.History at 0x23a521f7e20>"
      ]
     },
     "execution_count": 47,
     "metadata": {},
     "output_type": "execute_result"
    }
   ],
   "source": [
    "%%time\n",
    "\n",
    "model.fit(tf_train_dataset, validation_data=tf_validation_dataset, epochs=num_epochs)\n",
    "# model_path = \"./models/drugs-bert-base-cased\"\n",
    "# model.save_pretrained(model_path)"
   ]
  },
  {
   "cell_type": "markdown",
   "metadata": {},
   "source": [
    "#### Reload model"
   ]
  },
  {
   "cell_type": "code",
   "execution_count": 12,
   "metadata": {},
   "outputs": [],
   "source": [
    "# pretrained_model = 'bert-base-cased'\n",
    "# model_path = \"./models/drugs-bert-base-cased\"\n",
    "# model = TFAutoModelForSequenceClassification.from_pretrained(model_path, local_files_only=True)\n",
    "# tokenizer = AutoTokenizer.from_pretrained(pretrained_model)\n",
    "# data_collator = DataCollatorWithPadding(tokenizer=tokenizer, return_tensors='tf')\n",
    "# from datasets import load_from_disk\n",
    "# drug_dataset_preproc = load_from_disk(\"drug-reviews\")\n",
    "# N_tes = len(drug_dataset_preproc['test'])\n",
    "# batch_size = 8\n",
    "# top_conditions = ['birth control', 'depression', 'acne', 'anxiety', \n",
    "#                   'pain', 'bipolar disorde', 'weight loss', 'obesity', \n",
    "#                   'insomnia', 'adhd', 'other']\n"
   ]
  },
  {
   "cell_type": "code",
   "execution_count": 7,
   "metadata": {},
   "outputs": [],
   "source": [
    "small_test = drug_dataset_preproc['test'].shuffle(seed=42).select(range(N_tes // 5))\n",
    "tf_test_dataset = small_test.to_tf_dataset(\n",
    "    columns=['attention_mask', 'input_ids', 'token_type_ids'],\n",
    "    label_cols=['labels'],\n",
    "    shuffle=False,\n",
    "    collate_fn=data_collator,\n",
    "    batch_size=batch_size,\n",
    ")\n",
    "test_preds = model.predict(tf_test_dataset)\n",
    "class_preds = np.argmax(test_preds['logits'], axis=1)"
   ]
  },
  {
   "cell_type": "code",
   "execution_count": 13,
   "metadata": {},
   "outputs": [
    {
     "name": "stdout",
     "output_type": "stream",
     "text": [
      "Precision confusion matrix\n"
     ]
    },
    {
     "data": {
      "text/html": [
       "<div>\n",
       "<style scoped>\n",
       "    .dataframe tbody tr th:only-of-type {\n",
       "        vertical-align: middle;\n",
       "    }\n",
       "\n",
       "    .dataframe tbody tr th {\n",
       "        vertical-align: top;\n",
       "    }\n",
       "\n",
       "    .dataframe thead tr th {\n",
       "        text-align: left;\n",
       "    }\n",
       "\n",
       "    .dataframe thead tr:last-of-type th {\n",
       "        text-align: right;\n",
       "    }\n",
       "</style>\n",
       "<table border=\"1\" class=\"dataframe\">\n",
       "  <thead>\n",
       "    <tr>\n",
       "      <th></th>\n",
       "      <th colspan=\"11\" halign=\"left\"></th>\n",
       "    </tr>\n",
       "    <tr>\n",
       "      <th>Predicted:</th>\n",
       "      <th>birth control</th>\n",
       "      <th>depression</th>\n",
       "      <th>acne</th>\n",
       "      <th>anxiety</th>\n",
       "      <th>pain</th>\n",
       "      <th>bipolar disorde</th>\n",
       "      <th>weight loss</th>\n",
       "      <th>obesity</th>\n",
       "      <th>insomnia</th>\n",
       "      <th>adhd</th>\n",
       "      <th>other</th>\n",
       "    </tr>\n",
       "    <tr>\n",
       "      <th>Actual:</th>\n",
       "      <th></th>\n",
       "      <th></th>\n",
       "      <th></th>\n",
       "      <th></th>\n",
       "      <th></th>\n",
       "      <th></th>\n",
       "      <th></th>\n",
       "      <th></th>\n",
       "      <th></th>\n",
       "      <th></th>\n",
       "      <th></th>\n",
       "    </tr>\n",
       "  </thead>\n",
       "  <tbody>\n",
       "    <tr>\n",
       "      <th>birth control</th>\n",
       "      <td>0.88</td>\n",
       "      <td></td>\n",
       "      <td></td>\n",
       "      <td></td>\n",
       "      <td>0.07</td>\n",
       "      <td></td>\n",
       "      <td></td>\n",
       "      <td>0.01</td>\n",
       "      <td></td>\n",
       "      <td></td>\n",
       "      <td>0.01</td>\n",
       "    </tr>\n",
       "    <tr>\n",
       "      <th>depression</th>\n",
       "      <td></td>\n",
       "      <td>0.65</td>\n",
       "      <td>0.01</td>\n",
       "      <td>0.18</td>\n",
       "      <td></td>\n",
       "      <td>0.12</td>\n",
       "      <td>0.05</td>\n",
       "      <td></td>\n",
       "      <td></td>\n",
       "      <td>0.03</td>\n",
       "      <td>0.02</td>\n",
       "    </tr>\n",
       "    <tr>\n",
       "      <th>acne</th>\n",
       "      <td></td>\n",
       "      <td></td>\n",
       "      <td>0.78</td>\n",
       "      <td></td>\n",
       "      <td></td>\n",
       "      <td></td>\n",
       "      <td></td>\n",
       "      <td></td>\n",
       "      <td></td>\n",
       "      <td></td>\n",
       "      <td>0.03</td>\n",
       "    </tr>\n",
       "    <tr>\n",
       "      <th>anxiety</th>\n",
       "      <td></td>\n",
       "      <td>0.1</td>\n",
       "      <td></td>\n",
       "      <td>0.61</td>\n",
       "      <td></td>\n",
       "      <td>0.04</td>\n",
       "      <td>0.03</td>\n",
       "      <td></td>\n",
       "      <td></td>\n",
       "      <td>0.02</td>\n",
       "      <td>0.01</td>\n",
       "    </tr>\n",
       "    <tr>\n",
       "      <th>pain</th>\n",
       "      <td>0.01</td>\n",
       "      <td></td>\n",
       "      <td></td>\n",
       "      <td></td>\n",
       "      <td>0.87</td>\n",
       "      <td></td>\n",
       "      <td></td>\n",
       "      <td></td>\n",
       "      <td></td>\n",
       "      <td></td>\n",
       "      <td></td>\n",
       "    </tr>\n",
       "    <tr>\n",
       "      <th>bipolar disorde</th>\n",
       "      <td></td>\n",
       "      <td>0.05</td>\n",
       "      <td></td>\n",
       "      <td>0.02</td>\n",
       "      <td></td>\n",
       "      <td>0.63</td>\n",
       "      <td>0.01</td>\n",
       "      <td></td>\n",
       "      <td></td>\n",
       "      <td>0.01</td>\n",
       "      <td>0.01</td>\n",
       "    </tr>\n",
       "    <tr>\n",
       "      <th>weight loss</th>\n",
       "      <td></td>\n",
       "      <td></td>\n",
       "      <td></td>\n",
       "      <td>0.01</td>\n",
       "      <td></td>\n",
       "      <td>0.02</td>\n",
       "      <td>0.76</td>\n",
       "      <td></td>\n",
       "      <td></td>\n",
       "      <td></td>\n",
       "      <td>0.01</td>\n",
       "    </tr>\n",
       "    <tr>\n",
       "      <th>obesity</th>\n",
       "      <td></td>\n",
       "      <td></td>\n",
       "      <td></td>\n",
       "      <td></td>\n",
       "      <td></td>\n",
       "      <td></td>\n",
       "      <td></td>\n",
       "      <td>0.53</td>\n",
       "      <td>0.31</td>\n",
       "      <td>0.01</td>\n",
       "      <td>0.01</td>\n",
       "    </tr>\n",
       "    <tr>\n",
       "      <th>insomnia</th>\n",
       "      <td></td>\n",
       "      <td></td>\n",
       "      <td></td>\n",
       "      <td></td>\n",
       "      <td></td>\n",
       "      <td></td>\n",
       "      <td></td>\n",
       "      <td>0.39</td>\n",
       "      <td>0.67</td>\n",
       "      <td></td>\n",
       "      <td></td>\n",
       "    </tr>\n",
       "    <tr>\n",
       "      <th>adhd</th>\n",
       "      <td></td>\n",
       "      <td>0.01</td>\n",
       "      <td></td>\n",
       "      <td>0.01</td>\n",
       "      <td></td>\n",
       "      <td>0.02</td>\n",
       "      <td>0.01</td>\n",
       "      <td></td>\n",
       "      <td></td>\n",
       "      <td>0.85</td>\n",
       "      <td></td>\n",
       "    </tr>\n",
       "    <tr>\n",
       "      <th>other</th>\n",
       "      <td>0.11</td>\n",
       "      <td>0.18</td>\n",
       "      <td>0.21</td>\n",
       "      <td>0.17</td>\n",
       "      <td>0.06</td>\n",
       "      <td>0.17</td>\n",
       "      <td>0.12</td>\n",
       "      <td>0.07</td>\n",
       "      <td>0.02</td>\n",
       "      <td>0.08</td>\n",
       "      <td>0.9</td>\n",
       "    </tr>\n",
       "  </tbody>\n",
       "</table>\n",
       "</div>"
      ],
      "text/plain": [
       "                                                                              \\\n",
       "Predicted:      birth control depression  acne anxiety  pain bipolar disorde   \n",
       "Actual:                                                                        \n",
       "birth control            0.88                           0.07                   \n",
       "depression                          0.65  0.01    0.18                  0.12   \n",
       "acne                                      0.78                                 \n",
       "anxiety                              0.1          0.61                  0.04   \n",
       "pain                     0.01                           0.87                   \n",
       "bipolar disorde                     0.05          0.02                  0.63   \n",
       "weight loss                                       0.01                  0.02   \n",
       "obesity                                                                        \n",
       "insomnia                                                                       \n",
       "adhd                                0.01          0.01                  0.02   \n",
       "other                    0.11       0.18  0.21    0.17  0.06            0.17   \n",
       "\n",
       "                                                          \n",
       "Predicted:      weight loss obesity insomnia  adhd other  \n",
       "Actual:                                                   \n",
       "birth control                  0.01                 0.01  \n",
       "depression             0.05                   0.03  0.02  \n",
       "acne                                                0.03  \n",
       "anxiety                0.03                   0.02  0.01  \n",
       "pain                                                      \n",
       "bipolar disorde        0.01                   0.01  0.01  \n",
       "weight loss            0.76                         0.01  \n",
       "obesity                        0.53     0.31  0.01  0.01  \n",
       "insomnia                       0.39     0.67              \n",
       "adhd                   0.01                   0.85        \n",
       "other                  0.12    0.07     0.02  0.08   0.9  "
      ]
     },
     "execution_count": 13,
     "metadata": {},
     "output_type": "execute_result"
    }
   ],
   "source": [
    "cm = confusion_matrix(small_test['label'], class_preds, normalize='pred')\n",
    "\n",
    "cm_df = pd.DataFrame(cm,\n",
    "                     index = pd.Index(top_conditions, name=\"Actual:\"), \n",
    "                     columns = pd.MultiIndex.from_product([[\"\"], top_conditions], names=[\"\",\"Predicted:\"])\n",
    "                     ).round(2)\n",
    "cm_df[cm_df == 0] = ''\n",
    "\n",
    "print(\"Precision confusion matrix\")\n",
    "cm_df"
   ]
  },
  {
   "cell_type": "code",
   "execution_count": 14,
   "metadata": {},
   "outputs": [
    {
     "name": "stdout",
     "output_type": "stream",
     "text": [
      "                 precision    recall  f1-score   support\n",
      "\n",
      "  birth control       0.88      0.95      0.91      1833\n",
      "     depression       0.65      0.59      0.62       578\n",
      "           acne       0.78      0.72      0.75       462\n",
      "        anxiety       0.61      0.75      0.67       519\n",
      "           pain       0.87      0.88      0.87       346\n",
      "bipolar disorde       0.63      0.67      0.65       239\n",
      "    weight loss       0.76      0.84      0.80       201\n",
      "        obesity       0.53      0.70      0.60       221\n",
      "       insomnia       0.67      0.38      0.49       224\n",
      "           adhd       0.85      0.83      0.84       194\n",
      "          other       0.90      0.86      0.88      4407\n",
      "\n",
      "       accuracy                           0.83      9224\n",
      "      macro avg       0.74      0.74      0.73      9224\n",
      "   weighted avg       0.83      0.83      0.83      9224\n",
      "\n"
     ]
    }
   ],
   "source": [
    "cr = classification_report(small_test['label'], class_preds, target_names=top_conditions)\n",
    "print(cr)"
   ]
  }
 ],
 "metadata": {
  "interpreter": {
   "hash": "7b4bbbfced4ba1047d846e897dfc894a10c14e3a1ef3994b0b0cf073289e3343"
  },
  "kernelspec": {
   "display_name": "Python 3 (ipykernel)",
   "language": "python",
   "name": "python3"
  },
  "language_info": {
   "codemirror_mode": {
    "name": "ipython",
    "version": 3
   },
   "file_extension": ".py",
   "mimetype": "text/x-python",
   "name": "python",
   "nbconvert_exporter": "python",
   "pygments_lexer": "ipython3",
   "version": "3.9.5"
  }
 },
 "nbformat": 4,
 "nbformat_minor": 2
}
